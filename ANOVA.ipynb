import pandas as pd
import statsmodels.api as sm
from statsmodels.stats.multicomp import pairwise_tukeyhsd

# Load your data from a CSV file
df = pd.read_csv('Book1.csv')

# List of unique vehicle IDs
vehicle_ids = df['Vehicle'].unique()

# Set your significance level
alpha = 0.05

# Create empty lists to store the results
vehicle_id_list = []
alert_type_list = []
mean_speed_list = []
p_value_list = []
significant_diff_list = []

# Perform one-way ANOVA and Tukey-Kramer test for each vehicle ID
for vehicle_id in vehicle_ids:
    # Filter data for the current vehicle ID
    data = df[df['Vehicle'] == vehicle_id]

    # Perform the ANOVA for alert types
    alert_types = data['Alert'].unique()
    grouped_data = [data[data['Alert'] == alert]['Speed'] for alert in alert_types]

    # Perform the ANOVA
    anova_result = sm.stats.anova_lm(sm.OLS.from_formula('Speed ~ Alert', data=data).fit())

    # Perform Tukey-Kramer test if the ANOVA result is significant
    if anova_result['PR(>F)'][0] < alpha:
        tukey_results = pairwise_tukeyhsd(data['Speed'], data['Alert'], alpha=alpha)
        for i in range(len(alert_types)):
            alert_type = alert_types[i]
            mean_speed = data[data['Alert'] == alert_type]['Speed'].mean()
            p_val = tukey_results.pvalues[i]
            significant_diff = p_val < alpha
            
            # Append results to lists
            vehicle_id_list.append(vehicle_id)
            alert_type_list.append(alert_type)
            mean_speed_list.append(mean_speed)
            p_value_list.append(p_val)
            significant_diff_list.append(significant_diff)

# Create a results DataFrame
results_df = pd.DataFrame({
    'Vehicle ID': vehicle_id_list,
    'Alert Type': alert_type_list,
    'Mean Speed': mean_speed_list,
    'P-Value (Tukey-Kramer Test)': p_value_list,
    'Significant Difference': significant_diff_list
})

# Print the results
print(results_df)
