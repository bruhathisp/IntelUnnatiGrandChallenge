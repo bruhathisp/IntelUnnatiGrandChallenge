import pandas as pd
from scipy.stats import f_oneway

# Load your data from a CSV file
df = pd.read_csv('Book1.csv')  

# List of unique vehicle IDs
vehicle_ids = df['Vehicle'].unique()

# Set your significance level
alpha = 0.05

# Perform one-way ANOVA for each vehicle ID
for vehicle_id in vehicle_ids:
    # Filter data for the current vehicle ID
    data = df[df['Vehicle'] == vehicle_id]

    # Perform the ANOVA for alert types
    alert_types = data['Alert'].unique()
    grouped_data = [data[data['Alert'] == alert]['Speed'] for alert in alert_types]

    # Perform the ANOVA
    f_statistic, p_value = f_oneway(*grouped_data)

    # Check the p-value to determine the significance
    if p_value < alpha:
        print(f"For Vehicle ID {vehicle_id}, there is a significant difference in vehicle speed among alert types.")
    else:
        print(f"For Vehicle ID {vehicle_id}, there is no significant difference in vehicle speed among alert types.")

    # Print the F-statistic and p-value
    print(f"F-statistic: {f_statistic}")
    print(f"P-value: {p_value}")
    print("\n")
